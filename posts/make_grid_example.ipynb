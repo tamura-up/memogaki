{
 "cells": [
  {
   "cell_type": "markdown",
   "id": "35dde504-5943-4be4-9179-a219cc2fba5f",
   "metadata": {},
   "source": [
    "---\n",
    "title: \"画像グリッド描画サンプル\"\n",
    "date: 2024-05-04\n",
    "categories: [notebook,image]\n",
    "---",
    "\n",
    "複数枚の画像をグリッド描画するサンプルコードです。  \n",
    "`torchvision` の `make_grid` を使って描画します。 [make_grid](https://pytorch.org/vision/0.17/generated/torchvision.utils.make_grid.html)"
   ]
  },
  {
   "cell_type": "code",
   "execution_count": 1,
   "id": "063cb7e7-0eaa-413e-9d82-09ac7effac2e",
   "metadata": {},
   "outputs": [],
   "source": [
    "import matplotlib.pyplot as plt\n",
    "import random\n",
    "import numpy as np\n",
    "import albumentations as A\n",
    "from albumentations.pytorch import ToTensorV2\n",
    "from torchvision.utils import make_grid\n",
    "import torch"
   ]
  },
  {
   "cell_type": "code",
   "execution_count": 2,
   "id": "90a652a3-576f-4039-b1aa-0fa137e61c4e",
   "metadata": {},
   "outputs": [],
   "source": [
    "class CFG:\n",
    "    H=32\n",
    "    W=64\n",
    "    row=3"
   ]
  },
  {
   "cell_type": "code",
   "execution_count": 3,
   "id": "45622f90-e0bf-42a6-bdc2-ef33b20d6b7d",
   "metadata": {},
   "outputs": [],
   "source": [
    "def get_tranform():\n",
    "    \"\"\"画像をアスペクト比を変えずに CFG.H * CFG.W サイズに変換する\"\"\"\n",
    "    t = A.Compose([\n",
    "        A.LongestMaxSize(max_size=max(CFG.H,CFG.W)),\n",
    "        A.PadIfNeeded(min_height=CFG.H, min_width=CFG.W, border_mode=0, mask_value=0),\n",
    "        ToTensorV2(),\n",
    "    ])\n",
    "    return t"
   ]
  },
  {
   "cell_type": "markdown",
   "id": "cb912b16-236a-425c-bc45-2467c46e0a33",
   "metadata": {},
   "source": [
    "### 画像の用意\n",
    "\n",
    "数枚ランダムに単色画像を作成する"
   ]
  },
  {
   "cell_type": "code",
   "execution_count": 4,
   "id": "7036ed8b-ce91-4c27-9258-733c3cfd1bc1",
   "metadata": {},
   "outputs": [],
   "source": [
    "def create_img(color,size):\n",
    "    \"\"\"単色画像の作成\"\"\"\n",
    "    return np.array(color,dtype=np.uint8)*np.ones((*size,3), dtype=np.uint8)"
   ]
  },
  {
   "cell_type": "code",
   "execution_count": 5,
   "id": "dbf528b9-b05c-4f82-b720-42ad7fc9637b",
   "metadata": {},
   "outputs": [],
   "source": [
    "images= [create_img([random.randint(0,255) for _ in range(3)],(20,50)) for _ in range(20)]"
   ]
  },
  {
   "cell_type": "markdown",
   "id": "85f95614-2af6-48f8-be27-c753e2ad410e",
   "metadata": {},
   "source": [
    "### grid の作成"
   ]
  },
  {
   "cell_type": "code",
   "execution_count": 6,
   "id": "7df56f21-986b-4ce9-bc82-18b9ed1a51cd",
   "metadata": {},
   "outputs": [],
   "source": [
    "t=get_tranform()\n",
    "images=[t(image=img)['image'] for img in images]"
   ]
  },
  {
   "cell_type": "code",
   "execution_count": 7,
   "id": "ad6cbaf8-4103-4edf-b2c1-f08421acf057",
   "metadata": {},
   "outputs": [],
   "source": [
    "tmp=torch.stack(images)"
   ]
  },
  {
   "cell_type": "code",
   "execution_count": 17,
   "id": "b3c84889-3649-4aca-8772-144d07ad7ef9",
   "metadata": {},
   "outputs": [],
   "source": [
    "res=make_grid(tmp,3,padding=2)"
   ]
  },
  {
   "cell_type": "code",
   "execution_count": 18,
   "id": "d14c7c4d-9eec-4f89-baa0-1e0ecbe4aec6",
   "metadata": {},
   "outputs": [],
   "source": [
    "# channel を一番最後に\n",
    "grid_image=res.permute(1,2,0).numpy()"
   ]
  },
  {
   "cell_type": "code",
   "execution_count": 19,
   "id": "947a1e1c-82a5-482c-bd8c-677fa8c55879",
   "metadata": {},
   "outputs": [
    {
     "data": {
      "text/plain": [
       "<matplotlib.image.AxesImage at 0x7b307047ab10>"
      ]
     },
     "execution_count": 19,
     "metadata": {},
     "output_type": "execute_result"
    },
    {
     "data": {
      "image/png": "[encoded data removed]",
      "text/plain": [
       "<Figure size 640x480 with 1 Axes>"
      ]
     },
     "metadata": {},
     "output_type": "display_data"
    }
   ],
   "source": [
    "plt.imshow(grid_image)"
   ]
  },
  {
   "cell_type": "markdown",
   "id": "b4e3321c-4922-427e-89b5-c98556b879bc",
   "metadata": {},
   "source": [
    "### save"
   ]
  },
  {
   "cell_type": "code",
   "execution_count": 11,
   "id": "805a4040-43dc-4ceb-b0c7-3a0fe778cc1c",
   "metadata": {},
   "outputs": [],
   "source": [
    "from PIL import Image"
   ]
  },
  {
   "cell_type": "code",
   "execution_count": 12,
   "id": "565d6ca6-5a76-4d68-a264-a52f72ade4c4",
   "metadata": {},
   "outputs": [],
   "source": [
    "image=Image.fromarray(grid_image)"
   ]
  },
  {
   "cell_type": "code",
   "execution_count": 13,
   "id": "b29d15b1-9e32-4772-90c6-568599655927",
   "metadata": {},
   "outputs": [],
   "source": [
    "image.save(\"test.jpg\")"
   ]
  }
 ],
 "metadata": {
  "kernelspec": {
   "display_name": "Python 3 (ipykernel)",
   "language": "python",
   "name": "python3"
  },
  "language_info": {
   "codemirror_mode": {
    "name": "ipython",
    "version": 3
   },
   "file_extension": ".py",
   "mimetype": "text/x-python",
   "name": "python",
   "nbconvert_exporter": "python",
   "pygments_lexer": "ipython3",
   "version": "3.12.2"
  }
 },
 "nbformat": 4,
 "nbformat_minor": 5
}
