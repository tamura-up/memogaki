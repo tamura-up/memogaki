{
 "cells": [
  {
   "cell_type": "markdown",
   "id": "4809b842-6fb6-44f4-bcd6-b4aff773fca4",
   "metadata": {},
   "source": [
    "---\n",
    "title: \"BCEWithLogitsLoss の確認\"\n",
    "date: 2024-05-09\n",
    "categories: [ml]\n",
    "---\n",
    "\n",
    "BCEWithLogitsLoss はマルチラベル分類のロスに使えることを知った\n",
    "\n",
    "[BCEWithLogitsLoss](https://pytorch.org/docs/stable/generated/torch.nn.BCEWithLogitsLoss.html)"
   ]
  },
  {
   "cell_type": "code",
   "execution_count": 1,
   "id": "2e2e3545-6104-4e59-96e2-285461ea0d68",
   "metadata": {},
   "outputs": [],
   "source": [
    "import numpy as np\n",
    "import torch"
   ]
  },
  {
   "cell_type": "code",
   "execution_count": 2,
   "id": "ad4b8d49-c27d-4e23-b50c-81351e5171aa",
   "metadata": {},
   "outputs": [
    {
     "data": {
      "text/plain": [
       "tensor([[0.2014, 0.2014, 0.2014, 0.2014, 0.2014, 0.3133, 0.3133, 0.3133, 0.3133,\n",
       "         0.3133]])"
      ]
     },
     "execution_count": 2,
     "metadata": {},
     "output_type": "execute_result"
    }
   ],
   "source": [
    "target = torch.ones([1, 10], dtype=torch.float32)  # 10 classes, batch size = 1\n",
    "# A prediction (logit)\n",
    "output = torch.cat([torch.full([1, 5], 1.5),torch.full([1,5],1.0)],dim=1)\n",
    "criterion = torch.nn.BCEWithLogitsLoss(reduction='none')\n",
    "criterion(output, target)  # -log(sigmoid(output value))"
   ]
  },
  {
   "cell_type": "code",
   "execution_count": 3,
   "id": "73abecf0-4c39-4d32-98de-1a25b9f74b77",
   "metadata": {},
   "outputs": [
    {
     "data": {
      "text/plain": [
       "tensor([-0.3133, -0.2014])"
      ]
     },
     "execution_count": 3,
     "metadata": {},
     "output_type": "execute_result"
    }
   ],
   "source": [
    "sigmoid=torch.sigmoid(torch.Tensor([1.0,1.5]))\n",
    "torch.log(sigmoid)"
   ]
  },
  {
   "cell_type": "markdown",
   "id": "1ad716ba-31dd-4fd8-ac7b-fa421c8fc33a",
   "metadata": {},
   "source": [
    "`pos_weight` は 各クラスで `Positive/Negative` のデータ数が不均衡な場合に設定すると良いらしい"
   ]
  }
 ],
 "metadata": {
  "kernelspec": {
   "display_name": "Python 3 (ipykernel)",
   "language": "python",
   "name": "python3"
  },
  "language_info": {
   "codemirror_mode": {
    "name": "ipython",
    "version": 3
   },
   "file_extension": ".py",
   "mimetype": "text/x-python",
   "name": "python",
   "nbconvert_exporter": "python",
   "pygments_lexer": "ipython3",
   "version": "3.12.2"
  }
 },
 "nbformat": 4,
 "nbformat_minor": 5
}
